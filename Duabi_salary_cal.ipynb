{
  "nbformat": 4,
  "nbformat_minor": 0,
  "metadata": {
    "colab": {
      "provenance": [],
      "authorship_tag": "ABX9TyOqO0S1fblu8Zjcjmbs7nQq",
      "include_colab_link": true
    },
    "kernelspec": {
      "name": "python3",
      "display_name": "Python 3"
    },
    "language_info": {
      "name": "python"
    }
  },
  "cells": [
    {
      "cell_type": "markdown",
      "metadata": {
        "id": "view-in-github",
        "colab_type": "text"
      },
      "source": [
        "<a href=\"https://colab.research.google.com/github/rohitkarve/googleColab/blob/main/Duabi_salary_cal.ipynb\" target=\"_parent\"><img src=\"https://colab.research.google.com/assets/colab-badge.svg\" alt=\"Open In Colab\"/></a>"
      ]
    },
    {
      "cell_type": "code",
      "source": [
        "# Given data\n",
        "monthly_expense_inr = 250000\n",
        "ppp_rate_usd_inr = 21.619  # Historical PPP rate\n",
        "usd_to_aed_exchange_rate = 3.67  # Approximate exchange rate\n",
        "\n",
        "# Convert INR to USD using PPP\n",
        "usd_equivalent = monthly_expense_inr / ppp_rate_usd_inr\n",
        "\n",
        "# Convert USD to AED\n",
        "aed_equivalent_ppp = usd_equivalent * usd_to_aed_exchange_rate\n",
        "\n",
        "print(f\"Equivalent pay in AED using PPP: {aed_equivalent_ppp}\")\n"
      ],
      "metadata": {
        "colab": {
          "base_uri": "https://localhost:8080/"
        },
        "id": "1Mt0Y0KiZBuB",
        "outputId": "46971886-de0d-4a78-865e-77fe3eca7fcc"
      },
      "execution_count": null,
      "outputs": [
        {
          "output_type": "stream",
          "name": "stdout",
          "text": [
            "Equivalent pay in AED using PPP: 42439.520791896015\n"
          ]
        }
      ]
    }
  ]
}